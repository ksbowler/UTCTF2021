{
 "cells": [
  {
   "cell_type": "code",
   "execution_count": 10,
   "metadata": {},
   "outputs": [],
   "source": [
    "from PIL import Image, ImageFilter\n",
    "im = Image.open('SHIFT.png')\n",
    "im2 = Image.new('RGBA',im.size)\n",
    "# x = ay -> x = 0\n",
    "a = 6\n",
    "for x in range(im.size[0]):\n",
    "    for y in range(im.size[1]):\n",
    "        slide = a * y\n",
    "        im2.putpixel(((x + slide) % im.size[0], y), im.getpixel((x, y)))\n",
    "im2.save(\"answer.png\")"
   ]
  },
  {
   "cell_type": "code",
   "execution_count": null,
   "metadata": {},
   "outputs": [],
   "source": []
  }
 ],
 "metadata": {
  "kernelspec": {
   "display_name": "Python 3",
   "language": "python",
   "name": "python3"
  },
  "language_info": {
   "codemirror_mode": {
    "name": "ipython",
    "version": 3
   },
   "file_extension": ".py",
   "mimetype": "text/x-python",
   "name": "python",
   "nbconvert_exporter": "python",
   "pygments_lexer": "ipython3",
   "version": "3.6.9"
  }
 },
 "nbformat": 4,
 "nbformat_minor": 2
}
